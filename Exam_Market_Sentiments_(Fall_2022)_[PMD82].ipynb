{
  "nbformat": 4,
  "nbformat_minor": 0,
  "metadata": {
    "colab": {
      "provenance": [],
      "collapsed_sections": [],
      "include_colab_link": true
    },
    "kernelspec": {
      "name": "python3",
      "display_name": "Python 3"
    },
    "language_info": {
      "name": "python"
    }
  },
  "cells": [
    {
      "cell_type": "markdown",
      "metadata": {
        "id": "view-in-github",
        "colab_type": "text"
      },
      "source": [
        "<a href=\"https://colab.research.google.com/github/flipdeciantis/my-notebooks/blob/main/Exam_Market_Sentiments_(Fall_2022)_%5BPMD82%5D.ipynb\" target=\"_parent\"><img src=\"https://colab.research.google.com/assets/colab-badge.svg\" alt=\"Open In Colab\"/></a>"
      ]
    },
    {
      "cell_type": "markdown",
      "source": [
        "# Prompt\n",
        "\n",
        "\n",
        "\n"
      ],
      "metadata": {
        "id": "Orzu6Ticqc5D"
      }
    },
    {
      "cell_type": "markdown",
      "source": [
        "**Part 1 (Warmup)**: Process the provided data to answer questions about it.\n",
        "\n",
        "**Part 2 (Market News Sentiments)**: Write a program to fetch market sentiment data about a given company, and display a news feed of relevant news articles.\n"
      ],
      "metadata": {
        "id": "QtAKkwW6mex1"
      }
    },
    {
      "cell_type": "markdown",
      "source": [
        "# Prerequisites\n"
      ],
      "metadata": {
        "id": "lGFPbwF9lobT"
      }
    },
    {
      "cell_type": "markdown",
      "source": [
        "\n",
        "For Part 2, you will need to first obtain an [AlphaVantage API Key](https://www.alphavantage.co/support/#api-key). A normal key should be fine, but alternatively you can use one of the prof's \"premium\" keys, which are provided in the assignment description on [Canvas](https://georgetown.instructure.com/courses/157254/assignments/782777). You will be asked to securely input this API Key via one of the setup cells."
      ],
      "metadata": {
        "id": "7pvBUBGDmgp9"
      }
    },
    {
      "cell_type": "markdown",
      "source": [
        "# Rules / Academic Integrity"
      ],
      "metadata": {
        "id": "JdUWwZ0o5MHx"
      }
    },
    {
      "cell_type": "markdown",
      "source": [
        "The exam format is:\n",
        "\n",
        "  + **Open Notes** - you may use your own printed or digital notes, including other notebooks or assignments previously submitted by you\n",
        "  + **Open Internet** - you may search the Internet for public resources (i.e. Stack Overflow or the course repository)\n",
        "  + **Open API Docs** - you will likely need to consult the API documentation to complete Part II\n",
        "\n",
        "However there are limitations:\n",
        "  + **Zero Collaboration** - you are not allowed to communicate with others in any way. This includes:\n",
        "    + **No Phones**\n",
        "    + **No Slack**\n",
        "    + **No Chat**\n",
        "    + **No Talking**\n",
        "    + **No wandering eyes / looking at other students' screens**\n",
        "\n",
        "Failure to abide by these Academic Integrity guidelines may lead to failure or dismissal."
      ],
      "metadata": {
        "id": "jJJZK7Vt5NfP"
      }
    },
    {
      "cell_type": "markdown",
      "metadata": {
        "id": "Oqu9eSWa0FPi"
      },
      "source": [
        "# Instructions\n"
      ]
    },
    {
      "cell_type": "markdown",
      "metadata": {
        "id": "Ay0cqN_Loiww"
      },
      "source": [
        "1. **Make a copy of this notebook** so you can edit and save your own version of it. Update the notebook title to include your name / Net ID. Do the work in your copy of the notebook. \n",
        "\n",
        "2. Edit the sharing settings: **share your notebook** publicly, so **\"Anyone with the link can view\"**. Notebooks not shared properly may be subject to late deductions if an instructor is unable to access them at the time of grading.\n",
        "\n",
        "3. **Complete the challenges**. For each challenge:\n",
        "    + **Run the provided \"Setup\" cell(s)**, as necessary.\n",
        "    + **Write Python code** to answer each of the provided questions. \n",
        "\n",
        "> NOTE: feel free to use the \"Scratch Work\" section at the bottom to try some things out, however only the code in the respective solution sections will be evaluated!\n",
        "\n",
        "\n",
        "Good luck! Have fun! \n"
      ]
    },
    {
      "cell_type": "markdown",
      "source": [
        "# Submission Instructions"
      ],
      "metadata": {
        "id": "L9khuWWF13XT"
      }
    },
    {
      "cell_type": "markdown",
      "source": [
        "\n",
        "\n",
        "To review your notebook / ensure it works as expected / prepare for evaluation: \n",
        "  1. Run it from scratch (\"Runtime\" > \"Restart and run all\"), provide any necessary user inputs, and verify you see the results you expect.\n",
        "\n",
        "\n",
        "When you're done coding and your notebook reflects your final work product, follow these steps to submit:\n",
        "\n",
        "  1. Download a copy of your notebook document in .ipynb format (\"File\" > \"Download\" > \"Download .ipynb\").\n",
        "  2. Upload the resulting .ipynb notebook file to Canvas.\n",
        "  3. Also submit your Colab Notebook URL via the Submission Form (see assignment description in Canvas for link to Google Form)."
      ],
      "metadata": {
        "id": "0lbKH5zj15c1"
      }
    },
    {
      "cell_type": "markdown",
      "source": [
        "# Evaluation"
      ],
      "metadata": {
        "id": "Vwb5M6kp3TmQ"
      }
    },
    {
      "cell_type": "markdown",
      "source": [
        "\n",
        "Submissions will be evaluated according to their ability to meet all requirements (see sections below), as summarized by the following rubric:\n",
        "\n",
        "  + **Part I (Warmup)** is worth 35%. \n",
        "\n",
        "  + **Part II (Market Sentiment App)** is worth 65%. \n",
        "\n",
        "The weights of each question are noted below:\n",
        "\n",
        "\n",
        "part | question | weight|\n",
        "--- | --- | ---\n",
        "Part 1 | A  | 5%\n",
        "Part 1 | B | 10%\n",
        "Part 1 | C | 20%\n",
        "\n",
        "\n",
        "\n",
        "part | question | weight|\n",
        "--- | --- | ---\n",
        "Part 2 | A | 5%\n",
        "Part 2 | B | 10%\n",
        "Part 2 | C | 10%\n",
        "Part 2 | D | 25%\n",
        "Part 2 | E | 15%\n",
        "\n",
        "\n",
        "\n",
        "\n"
      ],
      "metadata": {
        "id": "A06Kyb4L3U-Y"
      }
    },
    {
      "cell_type": "markdown",
      "source": [
        "# Setup"
      ],
      "metadata": {
        "id": "j2qTx44T9Wjo"
      }
    },
    {
      "cell_type": "code",
      "source": [
        "#\n",
        "# PART 2 SETUP CELL A (IMAGE DISPLAY)\n",
        "# ... run this cell to display some example images\n",
        "# ... (and feel free to optionally reference / adapt this code later)\n",
        "#\n",
        "\n",
        "from IPython.display import Image, display \n",
        "\n",
        "print(\"-----------\")\n",
        "print(\"EXAMPLE IMAGES:\")\n",
        "\n",
        "print(\"-----------\")\n",
        "image_url = \"https://upload.wikimedia.org/wikipedia/commons/thumb/9/9f/Georgetown_Hoyas_logo.svg/64px-Georgetown_Hoyas_logo.svg.png\"\n",
        "display(Image(url=image_url, height=100))\n",
        "\n",
        "print(\"-----------\")\n",
        "display(Image(url=\"https://www.python.org/static/community_logos/python-powered-w-200x80.png\"))\n",
        "\n",
        "print(\"-----------\")\n",
        "display(Image(url=\"https://banner2.cleanpng.com/20190914/tca/transparent-market-icon-news-icon-newspaper-icon-5d7ce8e6009aa0.6164315815684671740025.jpg\", height=100))"
      ],
      "metadata": {
        "colab": {
          "base_uri": "https://localhost:8080/",
          "height": 398
        },
        "id": "ulzFsX9mn4rP",
        "outputId": "64db5b68-8010-4210-ee82-46a05d526ea8"
      },
      "execution_count": null,
      "outputs": [
        {
          "output_type": "stream",
          "name": "stdout",
          "text": [
            "-----------\n",
            "EXAMPLE IMAGES:\n",
            "-----------\n"
          ]
        },
        {
          "output_type": "display_data",
          "data": {
            "text/html": [
              "<img src=\"https://upload.wikimedia.org/wikipedia/commons/thumb/9/9f/Georgetown_Hoyas_logo.svg/64px-Georgetown_Hoyas_logo.svg.png\" height=\"100\"/>"
            ],
            "text/plain": [
              "<IPython.core.display.Image object>"
            ]
          },
          "metadata": {}
        },
        {
          "output_type": "stream",
          "name": "stdout",
          "text": [
            "-----------\n"
          ]
        },
        {
          "output_type": "display_data",
          "data": {
            "text/html": [
              "<img src=\"https://www.python.org/static/community_logos/python-powered-w-200x80.png\"/>"
            ],
            "text/plain": [
              "<IPython.core.display.Image object>"
            ]
          },
          "metadata": {}
        },
        {
          "output_type": "stream",
          "name": "stdout",
          "text": [
            "-----------\n"
          ]
        },
        {
          "output_type": "display_data",
          "data": {
            "text/html": [
              "<img src=\"https://banner2.cleanpng.com/20190914/tca/transparent-market-icon-news-icon-newspaper-icon-5d7ce8e6009aa0.6164315815684671740025.jpg\" height=\"100\"/>"
            ],
            "text/plain": [
              "<IPython.core.display.Image object>"
            ]
          },
          "metadata": {}
        }
      ]
    },
    {
      "cell_type": "code",
      "source": [
        "#\n",
        "# PART 2 SETUP CELL B (SECURE HANDLING OF SECRET CREDENTIALS)\n",
        "#\n",
        "# Run this cell to ask the user to securely input the API Key.\n",
        "# Since the API Key is a secret credential like a password, \n",
        "# ... we want to avoid hard-coding or exposing it.\n",
        "#\n",
        "\n",
        "from getpass import getpass\n",
        "\n",
        "API_KEY = getpass(\"Please input your AlphaVantage API Key: \") "
      ],
      "metadata": {
        "id": "volez18go4Xw",
        "colab": {
          "base_uri": "https://localhost:8080/"
        },
        "outputId": "1d3b144c-72a7-4d66-8f27-c449dee6ca80"
      },
      "execution_count": null,
      "outputs": [
        {
          "name": "stdout",
          "output_type": "stream",
          "text": [
            "Please input your AlphaVantage API Key: ··········\n"
          ]
        }
      ]
    },
    {
      "cell_type": "markdown",
      "source": [
        "# Part 1 (Warmup)"
      ],
      "metadata": {
        "id": "bo3nwQdu4aR8"
      }
    },
    {
      "cell_type": "markdown",
      "source": [
        "Write Python code which references the provided `mentions` variable below to answer the following questions:\n",
        "\n",
        "A) Print the **number of companies** mentioned in the article (i.e. the number of items, which is 5).\n",
        "\n",
        "B) Print the **ticker symbol**, and the **sentiment score and label** for Netflix only (i.e. symbol \"NFLX\", score 0.167015, and label \"Somewhat-Bullish\").\n",
        "\n",
        "> NOTE: Your solution should not depend on the current ordering of the items, and should work even if the order were to be changed.\n",
        "\n",
        "\n",
        "C) Print the ticker symbol, and the sentiment score and label for only those companies mentioned with a **relevance score** greater than 0.1 (i.e. info for \"NFLX\", \"AAPL\", and \"DIS\" only). \n",
        "  + Also, for full points, ideally they should be listed in descending order of **sentiment score** (don't worry about ties - we should see \"DIS\" first, and then either \"NFLX\" or \"AAPL\" in any order as the second and third).\n",
        "\n",
        "> HINT: you may need to do some datatype conversion to deal with the scores in a numeric way."
      ],
      "metadata": {
        "id": "yt_aaojO7aQg"
      }
    },
    {
      "cell_type": "code",
      "source": [
        "# Run this cell \n",
        "# ... to save the mentions variable into the notebook's memory\n",
        "# ... so you can reference it in your solution cells below\n",
        "#\n",
        "# NOTE: these items represent companies mentioned in a given article\n",
        "# ... `ticker` identifies the company mentioned\n",
        "# ... `relevance_score` represents how relevant a mention it was (higher scores are more relevant)\n",
        "# ... `ticker_sentiment_score` reperesents what that article thought about the given company (higher scores are more positive)\n",
        "# ... `ticker_sentiment_label` describes the sentiment score\n",
        "\n",
        "mentions = [\n",
        "    {\n",
        "        \"ticker\": \"CCZ\",\n",
        "        \"relevance_score\": \"0.062434\",\n",
        "        \"ticker_sentiment_score\": \"0.148087\",\n",
        "        \"ticker_sentiment_label\": \"Neutral\"\n",
        "    },\n",
        "    {\n",
        "        \"ticker\": \"NFLX\",\n",
        "        \"relevance_score\": \"0.185781\",\n",
        "        \"ticker_sentiment_score\": \"0.167015\",\n",
        "        \"ticker_sentiment_label\": \"Somewhat-Bullish\"\n",
        "    },\n",
        "    {\n",
        "        \"ticker\": \"AAPL\",\n",
        "        \"relevance_score\": \"0.185781\",\n",
        "        \"ticker_sentiment_score\": \"0.167015\",\n",
        "        \"ticker_sentiment_label\": \"Somewhat-Bullish\"\n",
        "    },\n",
        "    {\n",
        "        \"ticker\": \"DIS\",\n",
        "        \"relevance_score\": \"0.124486\",\n",
        "        \"ticker_sentiment_score\": \"0.170737\",\n",
        "        \"ticker_sentiment_label\": \"Somewhat-Bullish\"\n",
        "    },\n",
        "    {\n",
        "        \"ticker\": \"WBD\",\n",
        "        \"relevance_score\": \"0.062434\",\n",
        "        \"ticker_sentiment_score\": \"0.148087\",\n",
        "        \"ticker_sentiment_label\": \"Neutral\"\n",
        "    }\n",
        "]"
      ],
      "metadata": {
        "id": "kVA18iQ86fvu"
      },
      "execution_count": null,
      "outputs": []
    },
    {
      "cell_type": "code",
      "source": [
        "# todo: write some Python code here (using as many cells as you'd like)\n"
      ],
      "metadata": {
        "id": "1-oZg2Aa6s33"
      },
      "execution_count": null,
      "outputs": []
    },
    {
      "cell_type": "code",
      "source": [],
      "metadata": {
        "id": "ruEnGIg56wd_"
      },
      "execution_count": null,
      "outputs": []
    },
    {
      "cell_type": "code",
      "source": [],
      "metadata": {
        "id": "4OnuMhNtC74f"
      },
      "execution_count": null,
      "outputs": []
    },
    {
      "cell_type": "code",
      "source": [],
      "metadata": {
        "id": "WIFFBXVrThD4"
      },
      "execution_count": null,
      "outputs": []
    },
    {
      "cell_type": "markdown",
      "source": [
        "# Part 2 (Market News Sentiments)\n"
      ],
      "metadata": {
        "id": "kw8ptl8t4ZqV"
      }
    },
    {
      "cell_type": "markdown",
      "source": [
        "For this Challenge, we will use the  AlphaVantage API's [\"Market News and Sentiment\"](https://www.alphavantage.co/documentation/#news-sentiment) endpoint to **request recent news and sentiments** about a given company. After reading the requirements below, it may be helpful to take a few minutes to consult the documentation to learn more, and make a plan, before coding your solution.\n",
        "\n",
        "> NOTE: we want to include news across all categories (i.e. omit topic specification). \n",
        "\n",
        "> NOTE: the only URL parameters we should need are `function` and `tickers` and `apikey` (ignore all other URL params).\n",
        "\n"
      ],
      "metadata": {
        "id": "AfqHoHor_3ED"
      }
    },
    {
      "cell_type": "markdown",
      "source": [
        "\n",
        "\n",
        "\n",
        "A) Ask the user to **input a stock symbol** (i.e. \"NFLX\") and store it in a variable called `symbol`, then print the selected symbol.\n",
        "\n",
        "> NOTE: assume the user inputs a valid symbol (i.e. no need for validations). \n",
        "\n",
        "> NOTE: your solution will be evaluated using \"NFLX\".\n",
        "\n",
        "B) Compile a dynamic string variable called **`request_url`**, using the `symbol` variable and the prodived `API_KEY` variable from the setup cell.\n",
        "\n",
        "> HINT: use string concatenation or a format string.\n",
        "\n",
        "> NOTE: you can assume the user is using a valid API Key.\n",
        "\n",
        "> NOTE: if the API Key value is exposed, that will lead to security deductions, so use the `API_KEY` variable provided in  the setup cell, and don't print or expose it.\n",
        "\n",
        "\n",
        "C) Using the `request_url` variable, make an HTTP  GET **request** for Market News and Sentiments about the given symbol, and store the resulting **response** in a variable called `response`. Then process the response data into a native Python datatype (i.e. dictionary).\n",
        "\n",
        "> NOTE: we will be working with JSON formatted response data.\n",
        "\n",
        "D) Loop through the articles to **display a news feed** which provides the following information about each article:\n",
        "  + **Title**\n",
        "  + **Author** (just the first one is fine)\n",
        "  + **Image** (ideally displayed)\n",
        "  + **Summary**\n",
        "  + **URL**\n",
        "  + **Overall Article Sentiment Score**\n",
        "  + **Ticker-specific Sentiment Score** (for the selected company only)\n",
        "\n",
        "> NOTE: on the afternoon of exam day, for \"NFLX\", we can expect around ten articles to match this criteria.\n",
        "\n",
        "> HINT: feel free to use the image display code examples provided in the first setup cell.\n",
        "\n",
        "> HINT: looks like the ticker-specific sentiment score is inside a list of dictionaries, with a dictionary representing each ticker mentioned in the article. So you may need to bust out a list comprehension or other list filtering technique 😸\n",
        "\n",
        "E) Revisit and revise your solution for Question D. Instead of displaying information about all articles, **only display  information for articles that have a high ticker-specific relevance score** (i.e. those greater than 50%). \n",
        "\n",
        "> HINT: filter your original list of articles on the basis of their ticker-specific relevance score.\n",
        "\n",
        "> NOTE: the endpoint docs mention a relevance related URL parameter, and it is possible to make a different request, however let's ignore this - rather we want to use the same data that was previously requested, and do the relevance filtering ourselves.\n",
        "\n"
      ],
      "metadata": {
        "id": "V6wchUMeiEtK"
      }
    },
    {
      "cell_type": "code",
      "source": [
        "# todo: write some Python code here (using as many cells as you'd like)\n"
      ],
      "metadata": {
        "id": "2xbAaT_qsh-g"
      },
      "execution_count": null,
      "outputs": []
    },
    {
      "cell_type": "code",
      "execution_count": null,
      "metadata": {
        "id": "W2F8prgmh6AY"
      },
      "outputs": [],
      "source": []
    },
    {
      "cell_type": "code",
      "source": [],
      "metadata": {
        "id": "EUFIB2rHs4WF"
      },
      "execution_count": null,
      "outputs": []
    },
    {
      "cell_type": "code",
      "source": [],
      "metadata": {
        "id": "12oUoZO31Tfu"
      },
      "execution_count": null,
      "outputs": []
    },
    {
      "cell_type": "code",
      "source": [],
      "metadata": {
        "id": "aEzqWcy_Z3-F"
      },
      "execution_count": null,
      "outputs": []
    },
    {
      "cell_type": "markdown",
      "source": [
        "# Scratch Work"
      ],
      "metadata": {
        "id": "fJD9rGFys5l2"
      }
    },
    {
      "cell_type": "code",
      "source": [
        "\n",
        "# symbol = \"NFLX\"\n",
        "\n",
        "# request_url = \"https://www.alphavantage.co/query?function=NEWS_SENTIMENT&tickers=TODO&apikey=TODO\"\n",
        "\n"
      ],
      "metadata": {
        "id": "johEn5Gls4F0"
      },
      "execution_count": null,
      "outputs": []
    },
    {
      "cell_type": "code",
      "source": [],
      "metadata": {
        "id": "hdt37mhatYJZ"
      },
      "execution_count": null,
      "outputs": []
    },
    {
      "cell_type": "code",
      "source": [],
      "metadata": {
        "id": "POPGeRZatsZP"
      },
      "execution_count": null,
      "outputs": []
    },
    {
      "cell_type": "code",
      "source": [],
      "metadata": {
        "id": "7AExcqbjDl7-"
      },
      "execution_count": null,
      "outputs": []
    },
    {
      "cell_type": "code",
      "source": [],
      "metadata": {
        "id": "slP39qXsDlff"
      },
      "execution_count": null,
      "outputs": []
    }
  ]
}